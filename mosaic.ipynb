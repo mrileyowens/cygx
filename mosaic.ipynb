{
 "cells": [
  {
   "cell_type": "code",
   "execution_count": null,
   "metadata": {},
   "outputs": [],
   "source": [
    "# Authors: Loren Anderson, Riley Owens (GitHub: mrileyowens)\n",
    "\n",
    "# This file stitches together data created by GaussPy+\n",
    "# describing the number of Gaussian components it fitted to\n",
    "# spectra from individual square tiles in Cygnus X to create \n",
    "# a composite map of the region."
   ]
  },
  {
   "cell_type": "code",
   "execution_count": 1,
   "metadata": {},
   "outputs": [
    {
     "name": "stdout",
     "output_type": "stream",
     "text": [
      "Requirement already satisfied: MontagePy in /opt/conda/lib/python3.9/site-packages (1.2.1)\n",
      "Requirement already satisfied: requests in /opt/conda/lib/python3.9/site-packages (from MontagePy) (2.26.0)\n",
      "Requirement already satisfied: idna<4,>=2.5 in /opt/conda/lib/python3.9/site-packages (from requests->MontagePy) (3.1)\n",
      "Requirement already satisfied: certifi>=2017.4.17 in /opt/conda/lib/python3.9/site-packages (from requests->MontagePy) (2021.5.30)\n",
      "Requirement already satisfied: charset-normalizer~=2.0.0 in /opt/conda/lib/python3.9/site-packages (from requests->MontagePy) (2.0.0)\n",
      "Requirement already satisfied: urllib3<1.27,>=1.21.1 in /opt/conda/lib/python3.9/site-packages (from requests->MontagePy) (1.26.6)\n"
     ]
    }
   ],
   "source": [
    "import sys\n",
    "!{sys.executable} -m pip install MontagePy"
   ]
  },
  {
   "cell_type": "code",
   "execution_count": 2,
   "metadata": {},
   "outputs": [],
   "source": [
    "import os\n",
    "import sys\n",
    "import shutil\n",
    "\n",
    "from MontagePy.main import *\n",
    "from MontagePy.archive import *\n",
    "\n",
    "from IPython.display import Image\n",
    "\n",
    "import glob\n",
    "\n",
    "from astropy.io import fits\n",
    "import numpy as np"
   ]
  },
  {
   "cell_type": "code",
   "execution_count": 5,
   "metadata": {},
   "outputs": [
    {
     "name": "stdout",
     "output_type": "stream",
     "text": [
      "/home/jovyan/work/custom/agd/G78.74_-0.12/gpy_maps/G78.74_-0.12_regrid_smo_avg_line_cut_bl_g+_fit_fin_sf-p2_component_map.fits\n",
      "/home/jovyan/work/custom/agd/G78.74_1.88/gpy_maps/G78.74_1.88_regrid_smo_avg_line_cut_bl_g+_fit_fin_sf-p2_component_map.fits\n",
      "/home/jovyan/work/custom/agd/G78.74_3.88/gpy_maps/G78.74_3.88_regrid_smo_avg_line_cut_bl_g+_fit_fin_sf-p2_component_map.fits\n",
      "/home/jovyan/work/custom/agd/G80.74_-0.12/gpy_maps/G80.74_-0.12_regrid_smo_avg_line_cut_bl_g+_fit_fin_sf-p2_component_map.fits\n",
      "/home/jovyan/work/custom/agd/G80.74_1.88/gpy_maps/G80.74_1.88_regrid_smo_avg_line_cut_bl_g+_fit_fin_sf-p2_component_map.fits\n",
      "/home/jovyan/work/custom/agd/G82.74_-0.12/gpy_maps/G82.74_-0.12_regrid_smo_avg_line_cut_bl_g+_fit_fin_sf-p2_component_map.fits\n",
      "/home/jovyan/work/custom/agd/G82.74_1.88/gpy_maps/G82.74_1.88_regrid_smo_avg_line_cut_bl_g+_fit_fin_sf-p2_component_map.fits\n"
     ]
    }
   ],
   "source": [
    "# Establishing directories and filepaths\n",
    "data='/home/jovyan/work/custom/agd/'\n",
    "os.chdir(data)\n",
    "\n",
    "files=[data+'G78.74_-0.12/gpy_maps/G78.74_-0.12_regrid_smo_avg_line_cut_bl_g+_fit_fin_sf-p2_component_map.fits',\n",
    "    data+'G78.74_1.88/gpy_maps/G78.74_1.88_regrid_smo_avg_line_cut_bl_g+_fit_fin_sf-p2_component_map.fits',\n",
    "    data+'G78.74_3.88/gpy_maps/G78.74_3.88_regrid_smo_avg_line_cut_bl_g+_fit_fin_sf-p2_component_map.fits',\n",
    "    data+'G80.74_-0.12/gpy_maps/G80.74_-0.12_regrid_smo_avg_line_cut_bl_g+_fit_fin_sf-p2_component_map.fits',\n",
    "    data+'G80.74_1.88/gpy_maps/G80.74_1.88_regrid_smo_avg_line_cut_bl_g+_fit_fin_sf-p2_component_map.fits',\n",
    "    data+'G82.74_-0.12/gpy_maps/G82.74_-0.12_regrid_smo_avg_line_cut_bl_g+_fit_fin_sf-p2_component_map.fits',\n",
    "    data+'G82.74_1.88/gpy_maps/G82.74_1.88_regrid_smo_avg_line_cut_bl_g+_fit_fin_sf-p2_component_map.fits'\n",
    "    ]\n",
    "\n",
    "# Copying files into new directory\n",
    "for file in files:\n",
    "    shutil.copy(file, \"raw\")"
   ]
  },
  {
   "cell_type": "code",
   "execution_count": 6,
   "metadata": {},
   "outputs": [
    {
     "name": "stdout",
     "output_type": "stream",
     "text": [
      "mImgTbl:           {'status': '0', 'count': 7, 'badfits': 0, 'badwcs': 0}\n",
      "mMakeHdr:           {'status': '0', 'count': 7, 'ncube': 0, 'naxis1': 725, 'naxis2': 724, 'clon': 80.73776345838064, 'clat': 1.8742282588278152, 'lonsize': 6.0416666666425005, 'latsize': 6.0333333333092005, 'posang': 4.443235538076351e-05, 'lon1': 83.75223302062984, 'lat1': -1.138076535700719, 'lon2': 77.72329856369424, 'lat2': -1.1380812063904397, 'lon3': 77.71290802173745, 'lat3': 4.881332099730288, 'lon4': 83.76261422607232, 'lat4': 4.881336786497206}\n"
     ]
    }
   ],
   "source": [
    "# Creating table from the raw images\n",
    "rtn = mImgtbl(\"raw\", \"rimages.tbl\")\n",
    "print(\"mImgTbl:           \" + str(rtn), flush=True)\n",
    "\n",
    "# Creating header for the composite image\n",
    "rtn = mMakeHdr(\"rimages.tbl\", \"region.hdr\", csys='Galactic')\n",
    "print(\"mMakeHdr:           \" + str(rtn), flush=True)"
   ]
  },
  {
   "cell_type": "code",
   "execution_count": 8,
   "metadata": {},
   "outputs": [
    {
     "name": "stdout",
     "output_type": "stream",
     "text": [
      "mProjExec:           {'status': '0', 'count': 7, 'failed': 0, 'nooverlap': 0}\n",
      "mImgtbl (projected): {'status': '0', 'count': 7, 'failed': 0, 'nooverlap': 0}\n"
     ]
    }
   ],
   "source": [
    "# Reproject the original images to the  frame of the output FITS header we created\n",
    "rtn = mProjExec(\"raw\", \"rimages.tbl\", \"region.hdr\", projdir=\"projected\", quickMode=True)\n",
    "print(\"mProjExec:           \" + str(rtn), flush=True)\n",
    "\n",
    "# Creating table from the reprojected images\n",
    "mImgtbl(\"projected\", \"pimages.tbl\")\n",
    "print(\"mImgtbl (projected): \" + str(rtn), flush=True)"
   ]
  },
  {
   "cell_type": "code",
   "execution_count": 9,
   "metadata": {},
   "outputs": [
    {
     "name": "stdout",
     "output_type": "stream",
     "text": [
      "mAdd:    {'status': '0', 'time': 0.0}\n"
     ]
    }
   ],
   "source": [
    "# Coadd the projected images without backgound correction\n",
    "rtn = mAdd(\"projected\", \"pimages.tbl\", \"region.hdr\", \"cygx_comp_mosaic.fits\")\n",
    "print(\"mAdd:    \" + str(rtn), flush=True)"
   ]
  }
 ],
 "metadata": {
  "kernelspec": {
   "display_name": "Python 3 (ipykernel)",
   "language": "python",
   "name": "python3"
  },
  "language_info": {
   "codemirror_mode": {
    "name": "ipython",
    "version": 3
   },
   "file_extension": ".py",
   "mimetype": "text/x-python",
   "name": "python",
   "nbconvert_exporter": "python",
   "pygments_lexer": "ipython3",
   "version": "3.9.5"
  }
 },
 "nbformat": 4,
 "nbformat_minor": 2
}
