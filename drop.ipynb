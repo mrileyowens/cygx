{
 "cells": [
  {
   "cell_type": "code",
   "execution_count": 1,
   "id": "77d33806",
   "metadata": {},
   "outputs": [],
   "source": [
    "# Author: Riley Owens (GitHub: mrileyowens)\n",
    "\n",
    "# This file trims the C-band RRL datacubes\n",
    "# to between +/- 100 km/s."
   ]
  },
  {
   "cell_type": "code",
   "execution_count": 2,
   "id": "f4db96a8",
   "metadata": {},
   "outputs": [],
   "source": [
    "import os\n",
    "from glob import glob\n",
    "from pathlib import Path\n",
    "\n",
    "import numpy as np\n",
    "\n",
    "from astropy.io import fits"
   ]
  },
  {
   "cell_type": "code",
   "execution_count": 3,
   "id": "0190eb2c",
   "metadata": {},
   "outputs": [],
   "source": [
    "# Establishing directories\n",
    "home='/home/jovyan/work/custom'\n",
    "data=home+'/data'"
   ]
  },
  {
   "cell_type": "code",
   "execution_count": 6,
   "id": "99d3cbd4",
   "metadata": {},
   "outputs": [],
   "source": [
    "# Establishing filepaths\n",
    "\n",
    "files=glob(data+'/*bl.fits')"
   ]
  },
  {
   "cell_type": "code",
   "execution_count": 5,
   "id": "6238ef24",
   "metadata": {},
   "outputs": [],
   "source": [
    "# Cutting datacubes to between +/- 100 km/s\n",
    "\n",
    "for file in files:\n",
    "\n",
    "    # Dropping unit axis\n",
    "    datacube=np.squeeze(fits.open(file)[0].data)\n",
    "\n",
    "    # Discarding subarrays outside of +/- 100 km/s\n",
    "    indices=np.append(np.arange(400),np.arange(801,1201))\n",
    "    datacube=np.delete(datacube,indices,0)\n",
    "\n",
    "    # Creating new header with adjusted values\n",
    "    header=fits.getheader(file,0)\n",
    "    header['NAXIS3']=401\n",
    "    header['CRVAL3']=-100.0\n",
    "\n",
    "    fits.writeto(data+'/'+Path(file).stem+'_drop.fits',datacube,header,overwrite=True)"
   ]
  },
  {
   "cell_type": "code",
   "execution_count": null,
   "id": "95dcba0d",
   "metadata": {},
   "outputs": [],
   "source": []
  }
 ],
 "metadata": {
  "kernelspec": {
   "display_name": "Python 3 (ipykernel)",
   "language": "python",
   "name": "python3"
  },
  "language_info": {
   "codemirror_mode": {
    "name": "ipython",
    "version": 3
   },
   "file_extension": ".py",
   "mimetype": "text/x-python",
   "name": "python",
   "nbconvert_exporter": "python",
   "pygments_lexer": "ipython3",
   "version": "3.9.5"
  }
 },
 "nbformat": 4,
 "nbformat_minor": 5
}
